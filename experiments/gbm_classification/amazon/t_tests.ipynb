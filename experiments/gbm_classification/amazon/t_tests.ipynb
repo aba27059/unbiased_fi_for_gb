{
 "cells": [
  {
   "cell_type": "code",
   "execution_count": 1,
   "metadata": {},
   "outputs": [],
   "source": [
    "import sys\n",
    "import numpy as np\n",
    "import pandas as pd\n",
    "import matplotlib.pyplot as plt\n",
    "import seaborn as sns\n",
    "%matplotlib inline\n",
    "%load_ext autoreload\n",
    "%autoreload 2"
   ]
  },
  {
   "cell_type": "code",
   "execution_count": 2,
   "metadata": {},
   "outputs": [
    {
     "data": {
      "text/html": [
       "<div>\n",
       "<style scoped>\n",
       "    .dataframe tbody tr th:only-of-type {\n",
       "        vertical-align: middle;\n",
       "    }\n",
       "\n",
       "    .dataframe tbody tr th {\n",
       "        vertical-align: top;\n",
       "    }\n",
       "\n",
       "    .dataframe thead th {\n",
       "        text-align: right;\n",
       "    }\n",
       "</style>\n",
       "<table border=\"1\" class=\"dataframe\">\n",
       "  <thead>\n",
       "    <tr style=\"text-align: right;\">\n",
       "      <th></th>\n",
       "      <th>error</th>\n",
       "      <th>nleaves</th>\n",
       "      <th>ntrees</th>\n",
       "      <th>model</th>\n",
       "      <th>experiment</th>\n",
       "    </tr>\n",
       "  </thead>\n",
       "  <tbody>\n",
       "    <tr>\n",
       "      <th>0</th>\n",
       "      <td>0.148920</td>\n",
       "      <td>598.0</td>\n",
       "      <td>100.0</td>\n",
       "      <td>LGBM</td>\n",
       "      <td>With Resource</td>\n",
       "    </tr>\n",
       "    <tr>\n",
       "      <th>1</th>\n",
       "      <td>0.175643</td>\n",
       "      <td>586.0</td>\n",
       "      <td>100.0</td>\n",
       "      <td>LGBM</td>\n",
       "      <td>With Resource</td>\n",
       "    </tr>\n",
       "    <tr>\n",
       "      <th>2</th>\n",
       "      <td>0.178575</td>\n",
       "      <td>601.0</td>\n",
       "      <td>100.0</td>\n",
       "      <td>LGBM</td>\n",
       "      <td>With Resource</td>\n",
       "    </tr>\n",
       "    <tr>\n",
       "      <th>3</th>\n",
       "      <td>0.143573</td>\n",
       "      <td>602.0</td>\n",
       "      <td>100.0</td>\n",
       "      <td>LGBM</td>\n",
       "      <td>With Resource</td>\n",
       "    </tr>\n",
       "    <tr>\n",
       "      <th>4</th>\n",
       "      <td>0.177686</td>\n",
       "      <td>598.0</td>\n",
       "      <td>100.0</td>\n",
       "      <td>LGBM</td>\n",
       "      <td>With Resource</td>\n",
       "    </tr>\n",
       "  </tbody>\n",
       "</table>\n",
       "</div>"
      ],
      "text/plain": [
       "      error  nleaves  ntrees model     experiment\n",
       "0  0.148920    598.0   100.0  LGBM  With Resource\n",
       "1  0.175643    586.0   100.0  LGBM  With Resource\n",
       "2  0.178575    601.0   100.0  LGBM  With Resource\n",
       "3  0.143573    602.0   100.0  LGBM  With Resource\n",
       "4  0.177686    598.0   100.0  LGBM  With Resource"
      ]
     },
     "execution_count": 2,
     "metadata": {},
     "output_type": "execute_result"
    }
   ],
   "source": [
    "with_resource = pd.read_csv('30foldCV/metrics_summary.csv')\n",
    "with_resource['experiment'] = 'With Resource'\n",
    "without_resource = pd.read_csv('30foldCV_no_Resource/metrics_summary.csv')\n",
    "without_resource['experiment'] = 'Without Resource'\n",
    "plot_data = pd.concat([with_resource, without_resource])\n",
    "plot_data.head(5)"
   ]
  },
  {
   "cell_type": "code",
   "execution_count": 3,
   "metadata": {},
   "outputs": [
    {
     "data": {
      "text/plain": [
       "SKLEARN Mean Imputing    30\n",
       "CVB                      30\n",
       "CatBoost                 30\n",
       "Vanilla GBM              30\n",
       "XGBOOST Mean Imputing    30\n",
       "LGBM                     30\n",
       "Name: model, dtype: int64"
      ]
     },
     "execution_count": 3,
     "metadata": {},
     "output_type": "execute_result"
    }
   ],
   "source": [
    "without_resource.model.value_counts()"
   ]
  },
  {
   "cell_type": "code",
   "execution_count": 4,
   "metadata": {},
   "outputs": [
    {
     "data": {
      "image/png": "[encoded data removed]",
      "text/plain": [
       "<Figure size 576x360 with 1 Axes>"
      ]
     },
     "metadata": {
      "needs_background": "light"
     },
     "output_type": "display_data"
    }
   ],
   "source": [
    "palette ={\"With Resource\": \"w\", \"Without Resource\": \"gray\"}\n",
    "plt.figure(figsize=(8,5))\n",
    "temp_plot_data = plot_data[plot_data['model'].isin(['LGBM', 'Vanilla GBM', 'CatBoost', 'CVB'])]\n",
    "ax = sns.boxplot(x = 'model', y = 'error', hue = 'experiment',palette=palette, data = temp_plot_data, flierprops = dict(markerfacecolor = '0.50', markersize = 2))\n",
    "# ax.set_title('Error on Amazon')\n",
    "ax.set_xlabel('Model')\n",
    "ax.set_ylabel('Error')\n",
    "ax.set_xticklabels(ax.get_xticklabels(), rotation=30, horizontalalignment='right')\n",
    "handles, labels = ax.get_legend_handles_labels()\n",
    "ax.legend(handles=handles, labels=labels)\n",
    "ax.get_figure().savefig(f\"error_on_amazon_with_without_resource.png\")\n",
    "plt.show()"
   ]
  },
  {
   "cell_type": "code",
   "execution_count": 5,
   "metadata": {},
   "outputs": [
    {
     "data": {
      "text/html": [
       "<div>\n",
       "<style scoped>\n",
       "    .dataframe tbody tr th:only-of-type {\n",
       "        vertical-align: middle;\n",
       "    }\n",
       "\n",
       "    .dataframe tbody tr th {\n",
       "        vertical-align: top;\n",
       "    }\n",
       "\n",
       "    .dataframe thead th {\n",
       "        text-align: right;\n",
       "    }\n",
       "</style>\n",
       "<table border=\"1\" class=\"dataframe\">\n",
       "  <thead>\n",
       "    <tr style=\"text-align: right;\">\n",
       "      <th></th>\n",
       "      <th></th>\n",
       "      <th>mean</th>\n",
       "      <th>size</th>\n",
       "    </tr>\n",
       "    <tr>\n",
       "      <th>model</th>\n",
       "      <th>experiment</th>\n",
       "      <th></th>\n",
       "      <th></th>\n",
       "    </tr>\n",
       "  </thead>\n",
       "  <tbody>\n",
       "    <tr>\n",
       "      <th rowspan=\"2\" valign=\"top\">CVB</th>\n",
       "      <th>With Resource</th>\n",
       "      <td>0.171563</td>\n",
       "      <td>30</td>\n",
       "    </tr>\n",
       "    <tr>\n",
       "      <th>Without Resource</th>\n",
       "      <td>0.172260</td>\n",
       "      <td>30</td>\n",
       "    </tr>\n",
       "    <tr>\n",
       "      <th rowspan=\"2\" valign=\"top\">CatBoost</th>\n",
       "      <th>With Resource</th>\n",
       "      <td>0.160560</td>\n",
       "      <td>30</td>\n",
       "    </tr>\n",
       "    <tr>\n",
       "      <th>Without Resource</th>\n",
       "      <td>0.164677</td>\n",
       "      <td>30</td>\n",
       "    </tr>\n",
       "    <tr>\n",
       "      <th rowspan=\"2\" valign=\"top\">LGBM</th>\n",
       "      <th>With Resource</th>\n",
       "      <td>0.172439</td>\n",
       "      <td>30</td>\n",
       "    </tr>\n",
       "    <tr>\n",
       "      <th>Without Resource</th>\n",
       "      <td>0.161736</td>\n",
       "      <td>30</td>\n",
       "    </tr>\n",
       "    <tr>\n",
       "      <th rowspan=\"2\" valign=\"top\">SKLEARN Mean Imputing</th>\n",
       "      <th>With Resource</th>\n",
       "      <td>0.276020</td>\n",
       "      <td>30</td>\n",
       "    </tr>\n",
       "    <tr>\n",
       "      <th>Without Resource</th>\n",
       "      <td>0.207310</td>\n",
       "      <td>30</td>\n",
       "    </tr>\n",
       "    <tr>\n",
       "      <th rowspan=\"2\" valign=\"top\">Vanilla GBM</th>\n",
       "      <th>With Resource</th>\n",
       "      <td>0.279460</td>\n",
       "      <td>30</td>\n",
       "    </tr>\n",
       "    <tr>\n",
       "      <th>Without Resource</th>\n",
       "      <td>0.193582</td>\n",
       "      <td>30</td>\n",
       "    </tr>\n",
       "    <tr>\n",
       "      <th rowspan=\"2\" valign=\"top\">XGBOOST Mean Imputing</th>\n",
       "      <th>With Resource</th>\n",
       "      <td>0.295272</td>\n",
       "      <td>30</td>\n",
       "    </tr>\n",
       "    <tr>\n",
       "      <th>Without Resource</th>\n",
       "      <td>0.228885</td>\n",
       "      <td>30</td>\n",
       "    </tr>\n",
       "  </tbody>\n",
       "</table>\n",
       "</div>"
      ],
      "text/plain": [
       "                                            mean  size\n",
       "model                 experiment                      \n",
       "CVB                   With Resource     0.171563    30\n",
       "                      Without Resource  0.172260    30\n",
       "CatBoost              With Resource     0.160560    30\n",
       "                      Without Resource  0.164677    30\n",
       "LGBM                  With Resource     0.172439    30\n",
       "                      Without Resource  0.161736    30\n",
       "SKLEARN Mean Imputing With Resource     0.276020    30\n",
       "                      Without Resource  0.207310    30\n",
       "Vanilla GBM           With Resource     0.279460    30\n",
       "                      Without Resource  0.193582    30\n",
       "XGBOOST Mean Imputing With Resource     0.295272    30\n",
       "                      Without Resource  0.228885    30"
      ]
     },
     "execution_count": 5,
     "metadata": {},
     "output_type": "execute_result"
    }
   ],
   "source": [
    "plot_data.groupby(['model','experiment'])['error'].agg(['mean','size'])"
   ]
  },
  {
   "cell_type": "code",
   "execution_count": 6,
   "metadata": {},
   "outputs": [],
   "source": [
    "from scipy.stats import ttest_ind\n",
    "\n",
    "def perform_one_sided_test(a , b, significance_level = 0.05):\n",
    "    # h_0: a < b\n",
    "    print(F\"Variance of the samples: {np.round(np.std(a),5)} {np.round(np.std(b),5)}\")\n",
    "    t, two_sided_p_value = ttest_ind(a, b,equal_var = False)\n",
    "    print(F\"two sided p value: {two_sided_p_value}\")\n",
    "    one_sided_p_value = two_sided_p_value/2\n",
    "    if t > 0 and one_sided_p_value < significance_level:\n",
    "        result = 'H_1'\n",
    "    else:\n",
    "        result = 'H_0'\n",
    "    print(F\"t is {np.round(t,2)}\")\n",
    "    print(F\"mean: m_0: {np.round(np.mean(a),5)}, mean: m_1: {np.round(np.mean(b),5)}\")\n",
    "    print(F\"{result}, p_value: {np.round(one_sided_p_value,3)}\")"
   ]
  },
  {
   "cell_type": "code",
   "execution_count": 7,
   "metadata": {},
   "outputs": [
    {
     "name": "stdout",
     "output_type": "stream",
     "text": [
      "MODEL: LGBM\n",
      "##################################################\n",
      "Variance of the samples: 0.02388 0.02094\n",
      "two sided p value: 0.07481509451259159\n",
      "t is 1.81\n",
      "mean: m_0: 0.17244, mean: m_1: 0.16174\n",
      "H_1, p_value: 0.037\n",
      "MODEL: CatBoost\n",
      "##################################################\n",
      "Variance of the samples: 0.0212 0.02014\n",
      "two sided p value: 0.4514176492028801\n",
      "t is -0.76\n",
      "mean: m_0: 0.16056, mean: m_1: 0.16468\n",
      "H_0, p_value: 0.226\n",
      "MODEL: CVB\n",
      "##################################################\n",
      "Variance of the samples: 0.01831 0.01905\n",
      "two sided p value: 0.8875167086806075\n",
      "t is -0.14\n",
      "mean: m_0: 0.17156, mean: m_1: 0.17226\n",
      "H_0, p_value: 0.444\n",
      "MODEL: Vanilla GBM\n",
      "##################################################\n",
      "Variance of the samples: 0.0349 0.0298\n",
      "two sided p value: 3.052782730731702e-14\n",
      "t is 10.08\n",
      "mean: m_0: 0.27946, mean: m_1: 0.19358\n",
      "H_1, p_value: 0.0\n",
      "MODEL: SKLEARN Mean Imputing\n",
      "##################################################\n",
      "Variance of the samples: 0.03399 0.03105\n",
      "two sided p value: 5.5850538499756367e-11\n",
      "t is 8.04\n",
      "mean: m_0: 0.27602, mean: m_1: 0.20731\n",
      "H_1, p_value: 0.0\n",
      "MODEL: XGBOOST Mean Imputing\n",
      "##################################################\n",
      "Variance of the samples: 0.0375 0.03676\n",
      "two sided p value: 6.167235699088608e-09\n",
      "t is 6.81\n",
      "mean: m_0: 0.29527, mean: m_1: 0.22889\n",
      "H_1, p_value: 0.0\n"
     ]
    }
   ],
   "source": [
    "for model in plot_data.model.unique():\n",
    "    with_ = plot_data[(plot_data.model == model) & (plot_data.experiment == 'With Resource')]['error'].tolist()\n",
    "    without_ = plot_data[(plot_data.model == model) & (plot_data.experiment == 'Without Resource')]['error'].tolist()\n",
    "    print(f'MODEL: {model}')\n",
    "    print('#'*50)\n",
    "    perform_one_sided_test(with_ , without_)"
   ]
  }
 ],
 "metadata": {
  "kernelspec": {
   "display_name": "Python 3",
   "language": "python",
   "name": "python3"
  },
  "language_info": {
   "codemirror_mode": {
    "name": "ipython",
    "version": 3
   },
   "file_extension": ".py",
   "mimetype": "text/x-python",
   "name": "python",
   "nbconvert_exporter": "python",
   "pygments_lexer": "ipython3",
   "version": "3.7.6"
  }
 },
 "nbformat": 4,
 "nbformat_minor": 4
}
