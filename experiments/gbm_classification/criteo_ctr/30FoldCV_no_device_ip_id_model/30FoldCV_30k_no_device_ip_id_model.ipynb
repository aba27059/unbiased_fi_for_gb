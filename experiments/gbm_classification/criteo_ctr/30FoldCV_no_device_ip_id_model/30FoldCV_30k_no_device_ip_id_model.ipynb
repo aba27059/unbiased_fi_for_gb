{
 "cells": [
  {
   "cell_type": "code",
   "execution_count": 1,
   "metadata": {},
   "outputs": [],
   "source": [
    "import sys\n",
    "sys.path.append(r\"C:\\Users\\afeki\\Desktop\\code\\CrossValidatedFeatureSelection\\experiments\")  # path contains python_file.py\n",
    "from plot_utils import get_results_data\n",
    "import numpy as np\n",
    "import pandas as pd\n",
    "import matplotlib.pyplot as plt\n",
    "import seaborn as sns\n",
    "%matplotlib inline\n",
    "%load_ext autoreload\n",
    "%autoreload 2"
   ]
  },
  {
   "cell_type": "code",
   "execution_count": 2,
   "metadata": {},
   "outputs": [
    {
     "data": {
      "text/html": [
       "<div>\n",
       "<style scoped>\n",
       "    .dataframe tbody tr th:only-of-type {\n",
       "        vertical-align: middle;\n",
       "    }\n",
       "\n",
       "    .dataframe tbody tr th {\n",
       "        vertical-align: top;\n",
       "    }\n",
       "\n",
       "    .dataframe thead th {\n",
       "        text-align: right;\n",
       "    }\n",
       "</style>\n",
       "<table border=\"1\" class=\"dataframe\">\n",
       "  <thead>\n",
       "    <tr style=\"text-align: right;\">\n",
       "      <th></th>\n",
       "      <th>Features</th>\n",
       "      <th>Feature Importance Type</th>\n",
       "      <th>Value</th>\n",
       "      <th>exp</th>\n",
       "      <th>Model</th>\n",
       "    </tr>\n",
       "  </thead>\n",
       "  <tbody>\n",
       "    <tr>\n",
       "      <th>0</th>\n",
       "      <td>C1</td>\n",
       "      <td>Gain</td>\n",
       "      <td>0.000000</td>\n",
       "      <td>0</td>\n",
       "      <td>LGBM</td>\n",
       "    </tr>\n",
       "    <tr>\n",
       "      <th>1</th>\n",
       "      <td>C14</td>\n",
       "      <td>Gain</td>\n",
       "      <td>0.122573</td>\n",
       "      <td>0</td>\n",
       "      <td>LGBM</td>\n",
       "    </tr>\n",
       "  </tbody>\n",
       "</table>\n",
       "</div>"
      ],
      "text/plain": [
       "  Features Feature Importance Type     Value  exp Model\n",
       "0       C1                    Gain  0.000000    0  LGBM\n",
       "1      C14                    Gain  0.122573    0  LGBM"
      ]
     },
     "execution_count": 2,
     "metadata": {},
     "output_type": "execute_result"
    }
   ],
   "source": [
    "FOLDER = \"C:/Users/afeki/Desktop/code/CrossValidatedFeatureSelection/experiments/gbm_classification/criteo_ctr/30FoldCV_no_device_ip_id_model\"\n",
    "fi, metrics = get_results_data(FOLDER, normalize=True, one_hot=False)\n",
    "\n",
    "df_map = { 'gain': 'Gain', 'permutation_test' : \"Permutation\", 'permutation_train' : 'Permutation Train', 'shap_test': 'Shap','shap_train': 'Shap Train'}\n",
    "model_map = {'LGBM' : 'LGBM', 'CATBOOST' : 'CatBoost', 'Ours' : 'CVB', 'Vanilla_GBM' : 'Vanilla GBM', 'SKLEARN_MI' : 'SKLEARN Mean Imputing','XGBOOST_MI' : 'XGBOOST Mean Imputing'}\n",
    "metrics['model'] = metrics['model'].map(model_map)\n",
    "metrics.to_csv(\"metrics_summary.csv\", index = None)\n",
    "\n",
    "def translate_value_names(df):\n",
    "    df['fi_type'] = df['fi_type'].map(df_map)\n",
    "    df['model'] = df['model'].map(model_map)\n",
    "    df.columns = ['Features', \"Feature Importance Type\", 'Value', 'exp','Model']\n",
    "    \n",
    "translate_value_names(fi)\n",
    "fi.head(2)"
   ]
  },
  {
   "cell_type": "code",
   "execution_count": 3,
   "metadata": {},
   "outputs": [],
   "source": [
    "# dataset = pd.read_csv(\"C:/Users/afeki/Desktop/code/CrossValidatedFeatureSelection/datasets/criteo_ctr_prediction/train_10000.csv\")\n",
    "# dataset = dataset.drop(columns=['click', 'hour', 'id', 'Unnamed: 0'])\n",
    "# print(dataset.shape)\n",
    "# l = []\n",
    "# for col in dataset.columns:\n",
    "#     l.append([col, dataset[col].dtype, dataset[col].isna().sum(),len(np.unique(dataset[col]))])  \n",
    "# df = pd.DataFrame(l, columns = ['feature','dtype', '# nan values','n_unique_values'])\n",
    "# df = df.sort_values('n_unique_values', ascending = False)\n",
    "# display(df)"
   ]
  },
  {
   "cell_type": "code",
   "execution_count": 4,
   "metadata": {},
   "outputs": [],
   "source": [
    "# feature_order = df['feature'].values\n",
    "# feature_order = [i for i in feature_order if i not in ['device_ip','device_id','device_model']]"
   ]
  },
  {
   "cell_type": "code",
   "execution_count": 5,
   "metadata": {},
   "outputs": [],
   "source": [
    "# list(feature_order)"
   ]
  },
  {
   "cell_type": "code",
   "execution_count": 6,
   "metadata": {},
   "outputs": [],
   "source": [
    "# replace_feature_names_dict = {}\n",
    "# for f in feature_order:\n",
    "#     if list(feature_order).index(f) > list(feature_order).index('app_category'):\n",
    "#         replace_feature_names_dict [f] = 'All_the_rest'\n",
    "#     else:\n",
    "#         replace_feature_names_dict [f] = f\n",
    "# replace_feature_names_dict"
   ]
  },
  {
   "cell_type": "code",
   "execution_count": 7,
   "metadata": {},
   "outputs": [],
   "source": [
    "# def paper_graph(data,title):\n",
    "#     models = ['LGBM', 'Vanilla GBM', 'CATBOOST', 'Ours']\n",
    "#     fig,a =  plt.subplots(2,2,  figsize=(15, 8))\n",
    "#     plt.subplots_adjust(wspace = 0.1, hspace = 0.7)\n",
    "#     counter = 0\n",
    "#     for i in range(2):\n",
    "#         for j in range(2):\n",
    "#             temp_model = models[counter]\n",
    "#             plot_data = data[(data.Model == temp_model)]\n",
    "#             plot_data[\" \"] = plot_data[\"Value\"]\n",
    "#             plot_data = plot_data.set_index('Features')\n",
    "#             plot_data = plot_data.loc[feature_order,:].reset_index()\n",
    "#             plot_data['Features'] = plot_data['Features'].map(replace_feature_names_dict)\n",
    "#             ylim = 1\n",
    "#             a[i][j].set_title(temp_model)\n",
    "#             a[i][j].set_ylim(0,ylim)\n",
    "#             a[i][j].yaxis.set_label_coords(-0.2, 0.5)\n",
    "#             sns.barplot(x='Features', y=\" \", hue=\"Feature Importance Type\", data=plot_data, ax = a[i][j])\n",
    "#             a[i][j].set_xticklabels(a[i][j].get_xticklabels(), rotation=30, horizontalalignment='right')\n",
    "#             a[i][j].set_xlabel('')\n",
    "#             if temp_model != 'Ours':\n",
    "#                 handles, labels = a[i][j].get_legend_handles_labels()\n",
    "#             a[i][j].legend_.remove()\n",
    "#             counter += 1\n",
    "#     fig.legend(handles, labels, bbox_to_anchor = [0.88,0.88])\n",
    "#     fig.suptitle(title, fontsize=16)\n",
    "#     fig.savefig(F\"{title}.png\")\n",
    "#     plt.show()\n",
    "    \n",
    "# paper_graph(fi[fi[\"Feature Importance Type\"] != 'Shap Train'],'Criteo CTR Feature Importance') "
   ]
  }
 ],
 "metadata": {
  "kernelspec": {
   "display_name": "Python 3",
   "language": "python",
   "name": "python3"
  },
  "language_info": {
   "codemirror_mode": {
    "name": "ipython",
    "version": 3
   },
   "file_extension": ".py",
   "mimetype": "text/x-python",
   "name": "python",
   "nbconvert_exporter": "python",
   "pygments_lexer": "ipython3",
   "version": "3.7.6"
  }
 },
 "nbformat": 4,
 "nbformat_minor": 4
}
